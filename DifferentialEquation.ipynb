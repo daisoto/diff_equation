{
 "cells": [
  {
   "cell_type": "code",
   "execution_count": 73,
   "metadata": {},
   "outputs": [],
   "source": [
    "import numpy as np\n",
    "import pandas as pd\n",
    "import seaborn as sns\n",
    "import matplotlib.pyplot as plt\n",
    "import math\n",
    "%matplotlib inline"
   ]
  },
  {
   "cell_type": "code",
   "execution_count": 41,
   "metadata": {},
   "outputs": [],
   "source": [
    "def func(x):\n",
    "    return math.cos(x)+math.sin(x)\n",
    "\n",
    "\n",
    "def euler_func(h, y, x):\n",
    "    \n",
    "    def diff_eq(x, y):\n",
    "        return 1/(math.cos(x)) - y*math.tan(x)\n",
    "    \n",
    "    return h*diff_eq(x, y)+y"
   ]
  },
  {
   "cell_type": "code",
   "execution_count": 64,
   "metadata": {},
   "outputs": [
    {
     "name": "stdout",
     "output_type": "stream",
     "text": [
      "Введите число шагов: 100\n"
     ]
    }
   ],
   "source": [
    "start, end = 0, 1\n",
    "n = int(input('Введите число шагов: '))\n",
    "h=(end-start)/n"
   ]
  },
  {
   "cell_type": "code",
   "execution_count": 96,
   "metadata": {},
   "outputs": [],
   "source": [
    "x = np.zeros(n+1)\n",
    "yo = np.zeros(n+1)\n",
    "y = np.zeros(n+1)\n",
    "Δi = np.zeros(n+1)\n",
    "Δ = np.zeros(n+1)\n",
    "\n",
    "x[0] = start\n",
    "yo[0] = func(start)\n",
    "y[0] = yo[0]\n",
    "\n",
    "for i in range(1, n+1):\n",
    "    x[i] = x[i-1] + h\n",
    "    yo[i] = func(x[i])\n",
    "    y[i] = euler_func(h, y[i-1], x[i-1]) \n",
    "    Δi[i] = abs(yo[i] - y[i])\n",
    "    Δ[i] = Δ[i-1] + Δi[i]"
   ]
  },
  {
   "cell_type": "code",
   "execution_count": 97,
   "metadata": {
    "scrolled": true
   },
   "outputs": [],
   "source": [
    "df = pd.DataFrame({\n",
    "    'x': x,\n",
    "    'y°': yo,\n",
    "    'y': y,\n",
    "    'Δi': Δi,\n",
    "    'Δ': Δ\n",
    "})"
   ]
  },
  {
   "cell_type": "code",
   "execution_count": 98,
   "metadata": {},
   "outputs": [
    {
     "data": {
      "text/html": [
       "<div>\n",
       "<style scoped>\n",
       "    .dataframe tbody tr th:only-of-type {\n",
       "        vertical-align: middle;\n",
       "    }\n",
       "\n",
       "    .dataframe tbody tr th {\n",
       "        vertical-align: top;\n",
       "    }\n",
       "\n",
       "    .dataframe thead th {\n",
       "        text-align: right;\n",
       "    }\n",
       "</style>\n",
       "<table border=\"1\" class=\"dataframe\">\n",
       "  <thead>\n",
       "    <tr style=\"text-align: right;\">\n",
       "      <th></th>\n",
       "      <th>x</th>\n",
       "      <th>y°</th>\n",
       "      <th>y</th>\n",
       "      <th>Δi</th>\n",
       "      <th>Δ</th>\n",
       "    </tr>\n",
       "  </thead>\n",
       "  <tbody>\n",
       "    <tr>\n",
       "      <th>0</th>\n",
       "      <td>0.00</td>\n",
       "      <td>1.000000</td>\n",
       "      <td>1.000000</td>\n",
       "      <td>0.000000</td>\n",
       "      <td>0.000000</td>\n",
       "    </tr>\n",
       "    <tr>\n",
       "      <th>1</th>\n",
       "      <td>0.01</td>\n",
       "      <td>1.009950</td>\n",
       "      <td>1.010000</td>\n",
       "      <td>0.000050</td>\n",
       "      <td>0.000050</td>\n",
       "    </tr>\n",
       "    <tr>\n",
       "      <th>2</th>\n",
       "      <td>0.02</td>\n",
       "      <td>1.019799</td>\n",
       "      <td>1.019899</td>\n",
       "      <td>0.000101</td>\n",
       "      <td>0.000151</td>\n",
       "    </tr>\n",
       "    <tr>\n",
       "      <th>3</th>\n",
       "      <td>0.03</td>\n",
       "      <td>1.029546</td>\n",
       "      <td>1.029697</td>\n",
       "      <td>0.000152</td>\n",
       "      <td>0.000303</td>\n",
       "    </tr>\n",
       "    <tr>\n",
       "      <th>4</th>\n",
       "      <td>0.04</td>\n",
       "      <td>1.039189</td>\n",
       "      <td>1.039393</td>\n",
       "      <td>0.000204</td>\n",
       "      <td>0.000506</td>\n",
       "    </tr>\n",
       "  </tbody>\n",
       "</table>\n",
       "</div>"
      ],
      "text/plain": [
       "      x        y°         y        Δi         Δ\n",
       "0  0.00  1.000000  1.000000  0.000000  0.000000\n",
       "1  0.01  1.009950  1.010000  0.000050  0.000050\n",
       "2  0.02  1.019799  1.019899  0.000101  0.000151\n",
       "3  0.03  1.029546  1.029697  0.000152  0.000303\n",
       "4  0.04  1.039189  1.039393  0.000204  0.000506"
      ]
     },
     "execution_count": 98,
     "metadata": {},
     "output_type": "execute_result"
    }
   ],
   "source": [
    "df.head()"
   ]
  },
  {
   "cell_type": "code",
   "execution_count": 99,
   "metadata": {},
   "outputs": [],
   "source": [
    "df.to_excel('result.xlsx')"
   ]
  },
  {
   "cell_type": "code",
   "execution_count": 107,
   "metadata": {},
   "outputs": [
    {
     "data": {
      "image/png": "[encoded data removed]",
      "text/plain": [
       "<Figure size 432x288 with 1 Axes>"
      ]
     },
     "metadata": {},
     "output_type": "display_data"
    }
   ],
   "source": [
    "plt.plot(x, y, \"k--\")\n",
    "plt.plot(x, yo, \"k.\") \n",
    "plt.legend(['Аналитическое решение', 'Численное решение'])\n",
    "plt.show()"
   ]
  },
  {
   "cell_type": "code",
   "execution_count": 108,
   "metadata": {},
   "outputs": [
    {
     "data": {
      "image/png": "[encoded data removed]",
      "text/plain": [
       "<Figure size 432x288 with 1 Axes>"
      ]
     },
     "metadata": {},
     "output_type": "display_data"
    }
   ],
   "source": [
    "plt.plot(x, Δ, \"k--\")\n",
    "plt.plot(x, Δi, \"k.\") \n",
    "plt.legend(['∑Δ на i шаге', 'Δ на i шаге'])\n",
    "plt.show()"
   ]
  },
  {
   "cell_type": "code",
   "execution_count": null,
   "metadata": {},
   "outputs": [],
   "source": []
  }
 ],
 "metadata": {
  "kernelspec": {
   "display_name": "Python 3",
   "language": "python",
   "name": "python3"
  },
  "language_info": {
   "codemirror_mode": {
    "name": "ipython",
    "version": 3
   },
   "file_extension": ".py",
   "mimetype": "text/x-python",
   "name": "python",
   "nbconvert_exporter": "python",
   "pygments_lexer": "ipython3",
   "version": "3.7.0"
  }
 },
 "nbformat": 4,
 "nbformat_minor": 2
}
